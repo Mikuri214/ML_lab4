{
 "cells": [
  {
   "cell_type": "code",
   "execution_count": 2,
   "metadata": {
    "collapsed": true
   },
   "outputs": [
    {
     "data": {
      "image/png": "[encoded data removed]",
      "text/plain": [
       "<matplotlib.figure.Figure at 0x1a115ac9d30>"
      ]
     },
     "metadata": {},
     "output_type": "display_data"
    }
   ],
   "source": [
    "import numpy as np\n",
    "import pandas as pd\n",
    "import matplotlib.pyplot as plt\n",
    "from sklearn.model_selection import train_test_split\n",
    "\n",
    "#读取数据\n",
    "def get_data():\n",
    "    header = ['user_id', 'item_id', 'rating', 'timestamp']\n",
    "    df = pd.read_csv('ml-100k/u.data',sep='\\t',names=header,encoding='latin-1')\n",
    "    return df\n",
    "#分割数据\n",
    "data = get_data()\n",
    "n_users = data.user_id.unique().shape[0]\n",
    "n_items = data.item_id.unique().shape[0]\n",
    "#print(n_users)\n",
    "#print(n_items)\n",
    "train_data,test_data=train_test_split(data,test_size=0.25)\n",
    "train_data= pd.DataFrame(train_data)\n",
    "test_data= pd.DataFrame(test_data)\n",
    "#全零初始化\n",
    "train_matrix = np.zeros((n_users, n_items))\n",
    "for line in train_data.itertuples():\n",
    "    train_matrix[line[1]-1, line[2]-1] = line[3]\n",
    "\n",
    "test_matrix = np.zeros((n_users,n_items))\n",
    "for line in test_data.itertuples():\n",
    "    test_matrix[line[1]-1, line[2]-1] = line[3]\n",
    "#print(train_matrix)\n",
    "def train_and_test():\n",
    "    k = 150\n",
    "    penalty_factor = 0.01\n",
    "    learning_rate = 0.0001\n",
    "    epochs = 50\n",
    "\n",
    "    users = np.shape(train_matrix)[0]\n",
    "    items = np.shape(train_matrix)[1]\n",
    "    P = np.random.rand(users,k)\n",
    "    Q = np.random.rand(k,items)\n",
    "    validation_loss = []\n",
    "\n",
    "    for step in range(epochs):\n",
    "        # 训练P矩阵和Q矩阵\n",
    "        for u in range(users):\n",
    "            for i in range(items):\n",
    "                if train_matrix[u][i] > 0:\n",
    "                    error = train_matrix[u][i] - np.dot(P[u], Q[:, i])\n",
    "                    P[u] += 2 * learning_rate * error * Q[:, i] - 2 * penalty_factor * P[u]\n",
    "                    Q[:, i] += 2 * learning_rate * error * P[u] - 2 * penalty_factor * Q[:, i]\n",
    "        loss = np.sum(np.power(test_matrix - np.dot(P, Q), 2)) / (users * items) + penalty_factor * (\n",
    "        np.sum(np.power(P, 2)) + np.sum(np.power(Q, 2))) / k\n",
    "        validation_loss.append(loss)\n",
    "\n",
    "    return validation_loss\n",
    "\n",
    "loss = train_and_test()\n",
    "#画出loss曲线图\n",
    "plt.xlabel('Iteration')\n",
    "plt.ylabel('loss')\n",
    "plt.plot(loss, label=\"validation_loss\",color=\"blue\",linewidth=1.5)\n",
    "plt.legend(loc='upper right')\n",
    "plt.show()"
   ]
  }
 ],
 "metadata": {
  "kernelspec": {
   "display_name": "Python 2",
   "language": "python",
   "name": "python2"
  },
  "language_info": {
   "codemirror_mode": {
    "name": "ipython",
    "version": 2
   },
   "file_extension": ".py",
   "mimetype": "text/x-python",
   "name": "python",
   "nbconvert_exporter": "python",
   "pygments_lexer": "ipython2",
   "version": "2.7.6"
  }
 },
 "nbformat": 4,
 "nbformat_minor": 0
}
